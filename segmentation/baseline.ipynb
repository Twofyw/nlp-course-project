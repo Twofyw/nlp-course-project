{
 "cells": [
  {
   "cell_type": "code",
   "execution_count": 1,
   "metadata": {
    "ExecuteTime": {
     "end_time": "2019-04-02T11:46:04.384463Z",
     "start_time": "2019-04-02T11:46:04.051462Z"
    }
   },
   "outputs": [],
   "source": [
    "%matplotlib inline\n",
    "%reload_ext autoreload\n",
    "%autoreload 2"
   ]
  },
  {
   "cell_type": "code",
   "execution_count": 2,
   "metadata": {
    "ExecuteTime": {
     "end_time": "2019-04-02T11:46:05.879558Z",
     "start_time": "2019-04-02T11:46:04.629071Z"
    }
   },
   "outputs": [],
   "source": [
    "from utils.imports import *"
   ]
  },
  {
   "cell_type": "code",
   "execution_count": 3,
   "metadata": {
    "ExecuteTime": {
     "end_time": "2019-04-02T11:46:08.806006Z",
     "start_time": "2019-04-02T11:46:08.623513Z"
    }
   },
   "outputs": [
    {
     "data": {
      "text/plain": [
       "['19980101-01-001-002/m',\n",
       " '中共中央/nt',\n",
       " '总书记/n',\n",
       " '、/w',\n",
       " '国家/n',\n",
       " '主席/n',\n",
       " '江/nr',\n",
       " '泽民/nr',\n",
       " '']"
      ]
     },
     "execution_count": 3,
     "metadata": {},
     "output_type": "execute_result"
    }
   ],
   "source": [
    "fn_corpora = Path('datasets/北大人民日报语料库.txt')\n",
    "\n",
    "with open(fn_corpora, 'r', encoding='gbk') as f:\n",
    "    raw_corpora = f.read()\n",
    "\n",
    "sentences = raw_corpora.split('\\n')\n",
    "\n",
    "sentence = sentences[1]\n",
    "sentence.split('  ')"
   ]
  },
  {
   "cell_type": "code",
   "execution_count": 4,
   "metadata": {
    "ExecuteTime": {
     "end_time": "2019-04-02T11:46:10.730657Z",
     "start_time": "2019-04-02T11:46:10.690993Z"
    }
   },
   "outputs": [
    {
     "data": {
      "text/plain": [
       "['中共中央/nt', '总书记/n', '、/w', '国家/n', '主席/n', '江/nr', '泽民/nr']"
      ]
     },
     "execution_count": 4,
     "metadata": {},
     "output_type": "execute_result"
    }
   ],
   "source": [
    "words = [o for o in sentence.split('  ')[1:-1]]\n",
    "\n",
    "words"
   ]
  },
  {
   "cell_type": "markdown",
   "metadata": {},
   "source": [
    "# Collect words"
   ]
  },
  {
   "cell_type": "code",
   "execution_count": 5,
   "metadata": {
    "ExecuteTime": {
     "end_time": "2019-04-02T11:46:13.968719Z",
     "start_time": "2019-04-02T11:46:13.715295Z"
    }
   },
   "outputs": [
    {
     "data": {
      "text/plain": [
       "(1121429, ['迈向/v', '充满/v', '希望/n', '的/u', '新/a'])"
      ]
     },
     "execution_count": 5,
     "metadata": {},
     "output_type": "execute_result"
    }
   ],
   "source": [
    "words = [o for sentence in sentences for o in sentence.split('  ')[1:-1]]\n",
    "\n",
    "len(words), words[:5]"
   ]
  },
  {
   "cell_type": "code",
   "execution_count": 6,
   "metadata": {
    "ExecuteTime": {
     "end_time": "2019-04-02T11:46:19.010549Z",
     "start_time": "2019-04-02T11:46:18.546424Z"
    }
   },
   "outputs": [
    {
     "data": {
      "text/plain": [
       "(1121429, ['迈向', '充满', '希望', '的', '新'])"
      ]
     },
     "execution_count": 6,
     "metadata": {},
     "output_type": "execute_result"
    }
   ],
   "source": [
    "# clean annotations\n",
    "words_clean = [o.split('/')[0] for o in words]\n",
    "len(words_clean), words_clean[:5]"
   ]
  },
  {
   "cell_type": "code",
   "execution_count": 7,
   "metadata": {
    "ExecuteTime": {
     "end_time": "2019-04-02T11:46:22.495044Z",
     "start_time": "2019-04-02T11:46:22.395119Z"
    }
   },
   "outputs": [
    {
     "data": {
      "text/plain": [
       "'迈向 充满 希望 的'"
      ]
     },
     "execution_count": 7,
     "metadata": {},
     "output_type": "execute_result"
    }
   ],
   "source": [
    "sentences_space = ' '.join(words_clean)\n",
    "sentences_space[:10]"
   ]
  },
  {
   "cell_type": "code",
   "execution_count": 9,
   "metadata": {
    "ExecuteTime": {
     "end_time": "2019-04-02T11:46:28.658027Z",
     "start_time": "2019-04-02T11:46:26.997326Z"
    }
   },
   "outputs": [
    {
     "data": {
      "text/plain": [
       "[('迈', 0.0), ('向', 0.0), ('充', 1.0), ('满', 0.0)]"
      ]
     },
     "execution_count": 9,
     "metadata": {},
     "output_type": "execute_result"
    }
   ],
   "source": [
    "def create_labels(sentences_space):\n",
    "    sentences_space_np = np.array(list(sentences_space))\n",
    "    space_bool = (sentences_space_np == ' ')\n",
    "    space_idx = np.argwhere(space_bool).squeeze()\n",
    "\n",
    "    shift = np.arange((space_bool == True).sum())\n",
    "\n",
    "    b_idx = space_idx - shift\n",
    "    b_idx\n",
    "\n",
    "    concatenated = ''.join(words_clean)\n",
    "    b_bool = np.zeros(len(concatenated))\n",
    "    b_bool[b_idx] = 1\n",
    "\n",
    "    prepared_sentences = list(zip(concatenated, b_bool))\n",
    "    return prepared_sentences\n",
    "\n",
    "prepared_sentences = create_labels(sentences_space)\n",
    "\n",
    "prepared_sentences[:4], len(prepared_sentences)"
   ]
  },
  {
   "cell_type": "code",
   "execution_count": 18,
   "metadata": {
    "ExecuteTime": {
     "end_time": "2019-04-02T11:48:57.318078Z",
     "start_time": "2019-04-02T11:48:57.279239Z"
    }
   },
   "outputs": [],
   "source": [
    "def create_char_features(sentence, i):\n",
    "    features = [\n",
    "        'bias',\n",
    "        'char=' + sentence[i][0] \n",
    "    ]\n",
    "    \n",
    "    if i >= 1:\n",
    "        features.extend([\n",
    "            'char-1=' + sentence[i-1][0],\n",
    "            'char-1:0=' + sentence[i-1][0] + sentence[i][0],\n",
    "        ])\n",
    "    else:\n",
    "        features.append(\"BOS\")\n",
    "        \n",
    "    if i >= 2:\n",
    "        features.extend([\n",
    "            'char-2=' + sentence[i-2][0],\n",
    "            'char-2:0=' + sentence[i-2][0] + sentence[i-1][0] + sentence[i][0],\n",
    "            'char-2:-1=' + sentence[i-2][0] + sentence[i-1][0],\n",
    "        ])\n",
    "        \n",
    "    if i >= 3:\n",
    "        features.extend([\n",
    "            'char-3:0=' + sentence[i-3][0] + sentence[i-2][0] + sentence[i-1][0] + sentence[i][0],\n",
    "            'char-3:-1=' + sentence[i-3][0] + sentence[i-2][0] + sentence[i-1][0],\n",
    "        ])\n",
    "        \n",
    "        \n",
    "    if i + 1 < len(sentence):\n",
    "        features.extend([\n",
    "            'char+1=' + sentence[i+1][0],\n",
    "            'char:+1=' + sentence[i][0] + sentence[i+1][0],\n",
    "        ])\n",
    "    else:\n",
    "        features.append(\"EOS\")\n",
    "        \n",
    "    if i + 2 < len(sentence):\n",
    "        features.extend([\n",
    "            'char+2=' + sentence[i+2][0],\n",
    "            'char:+2=' + sentence[i][0] + sentence[i+1][0] + sentence[i+2][0],\n",
    "            'char+1:+2=' + sentence[i+1][0] + sentence[i+2][0],\n",
    "        ])\n",
    "        \n",
    "    if i + 3 < len(sentence):\n",
    "        features.extend([\n",
    "            'char:+3=' + sentence[i][0] + sentence[i+1][0] + sentence[i+2][0]+ sentence[i+3][0],\n",
    "            'char+1:+3=' + sentence[i+1][0] + sentence[i+2][0] + sentence[i+3][0],\n",
    "        ])\n",
    "    \n",
    "    return features\n",
    "\n",
    "\n",
    "\n",
    "def create_sentence_features(prepared_sentence):\n",
    "    return [create_char_features(prepared_sentence, i) for i in range(len(prepared_sentence))]\n",
    "\n",
    "def create_sentence_labels(prepared_sentence):\n",
    "    return [str(part[1]) for part in prepared_sentence]"
   ]
  },
  {
   "cell_type": "code",
   "execution_count": 26,
   "metadata": {
    "ExecuteTime": {
     "end_time": "2019-04-02T11:56:07.321006Z",
     "start_time": "2019-04-02T11:56:07.286654Z"
    }
   },
   "outputs": [],
   "source": [
    "valid_ratio = 0.2\n",
    "n_samples = len(prepared_sentences)\n",
    "n_valid = int(valid_ratio * n_samples)"
   ]
  },
  {
   "cell_type": "code",
   "execution_count": 27,
   "metadata": {
    "ExecuteTime": {
     "end_time": "2019-04-02T11:57:09.708590Z",
     "start_time": "2019-04-02T11:56:49.881027Z"
    }
   },
   "outputs": [],
   "source": [
    "X = create_sentence_features(prepared_sentences[:-n_valid])\n",
    "y = create_sentence_labels(prepared_sentences[:-n_valid])\n",
    "\n",
    "X_test = create_sentence_features(prepared_sentences[-n_valid:])\n",
    "y_test = create_sentence_labels(prepared_sentences[-n_valid:])"
   ]
  },
  {
   "cell_type": "code",
   "execution_count": 31,
   "metadata": {
    "ExecuteTime": {
     "end_time": "2019-04-02T11:58:27.252691Z",
     "start_time": "2019-04-02T11:58:27.217943Z"
    }
   },
   "outputs": [
    {
     "data": {
      "text/plain": [
       "(1480700, 1480700)"
      ]
     },
     "execution_count": 31,
     "metadata": {},
     "output_type": "execute_result"
    }
   ],
   "source": [
    "len(X), len(y)"
   ]
  },
  {
   "cell_type": "code",
   "execution_count": 32,
   "metadata": {
    "ExecuteTime": {
     "end_time": "2019-04-02T11:59:04.442417Z",
     "start_time": "2019-04-02T11:59:04.410238Z"
    }
   },
   "outputs": [
    {
     "data": {
      "text/plain": [
       "(['bias',\n",
       "  'char=迈',\n",
       "  'BOS',\n",
       "  'char+1=向',\n",
       "  'char:+1=迈向',\n",
       "  'char+2=充',\n",
       "  'char:+2=迈向充',\n",
       "  'char+1:+2=向充',\n",
       "  'char:+3=迈向充满',\n",
       "  'char+1:+3=向充满'],\n",
       " '0.0')"
      ]
     },
     "execution_count": 32,
     "metadata": {},
     "output_type": "execute_result"
    }
   ],
   "source": [
    "X[0], y[0]"
   ]
  },
  {
   "cell_type": "code",
   "execution_count": 33,
   "metadata": {
    "ExecuteTime": {
     "end_time": "2019-04-02T12:00:30.079655Z",
     "start_time": "2019-04-02T11:59:22.888016Z"
    }
   },
   "outputs": [],
   "source": [
    "import pycrfsuite\n",
    "\n",
    "trainer = pycrfsuite.Trainer(verbose=False)\n",
    "\n",
    "trainer.append(X, y)\n",
    "trainer.set_params({\n",
    "    'c1': 1.0, \n",
    "    'c2': 1e-3,\n",
    "    'max_iterations': 60,\n",
    "    'feature.possible_transitions': True\n",
    "})\n"
   ]
  },
  {
   "cell_type": "code",
   "execution_count": 34,
   "metadata": {
    "ExecuteTime": {
     "end_time": "2019-04-02T12:04:47.561529Z",
     "start_time": "2019-04-02T12:00:30.119569Z"
    }
   },
   "outputs": [],
   "source": [
    "trainer.train('latin-text-segmentation.crfsuite')"
   ]
  },
  {
   "cell_type": "code",
   "execution_count": 35,
   "metadata": {
    "ExecuteTime": {
     "end_time": "2019-04-02T12:10:53.681908Z",
     "start_time": "2019-04-02T12:10:53.630801Z"
    }
   },
   "outputs": [
    {
     "data": {
      "text/plain": [
       "<contextlib.closing at 0x7f1002133a58>"
      ]
     },
     "execution_count": 35,
     "metadata": {},
     "output_type": "execute_result"
    }
   ],
   "source": [
    "tagger = pycrfsuite.Tagger()\n",
    "tagger.open('latin-text-segmentation.crfsuite')"
   ]
  },
  {
   "cell_type": "code",
   "execution_count": 55,
   "metadata": {
    "ExecuteTime": {
     "end_time": "2019-04-02T12:17:42.007313Z",
     "start_time": "2019-04-02T12:16:54.799434Z"
    }
   },
   "outputs": [],
   "source": [
    "tp = 0\n",
    "fp = 0\n",
    "fn = 0\n",
    "n_correct = 0\n",
    "n_incorrect = 0\n",
    "\n",
    "prediction = tagger.tag(create_sentence_features(prepared_sentences))\n",
    "correct = create_sentence_labels(prepared_sentences)\n",
    "zipped = list(zip(prediction, correct))\n",
    "tp +=        len([_ for l, c in zipped if l == c and l == 1])\n",
    "fp +=        len([_ for l, c in zipped if l == 1 and c == 0])\n",
    "fn +=        len([_ for l, c in zipped if l == 0 and c == 1])\n",
    "n_incorrect += len([_ for l, c in zipped if l != c])\n",
    "n_correct   += len([_ for l, c in zipped if l == c])"
   ]
  },
  {
   "cell_type": "code",
   "execution_count": 69,
   "metadata": {
    "ExecuteTime": {
     "end_time": "2019-04-02T12:19:51.130116Z",
     "start_time": "2019-04-02T12:19:49.389638Z"
    }
   },
   "outputs": [
    {
     "data": {
      "text/plain": [
       "0.7658562029872773"
      ]
     },
     "execution_count": 69,
     "metadata": {},
     "output_type": "execute_result"
    }
   ],
   "source": [
    "y_true, y_scores = np.array(correct, dtype=np.float), np.array(prediction, dtype=np.float)\n",
    "from sklearn.metrics import average_precision_score\n",
    "average_precision_score(y_true, y_scores)"
   ]
  },
  {
   "cell_type": "code",
   "execution_count": 70,
   "metadata": {
    "ExecuteTime": {
     "end_time": "2019-04-02T12:20:01.482440Z",
     "start_time": "2019-04-02T12:20:01.444156Z"
    }
   },
   "outputs": [
    {
     "ename": "ZeroDivisionError",
     "evalue": "division by zero",
     "output_type": "error",
     "traceback": [
      "\u001b[0;31m---------------------------------------------------------------------------\u001b[0m",
      "\u001b[0;31mZeroDivisionError\u001b[0m                         Traceback (most recent call last)",
      "\u001b[0;32m<ipython-input-70-e98f21fa3dad>\u001b[0m in \u001b[0;36m<module>\u001b[0;34m\u001b[0m\n\u001b[0;32m----> 1\u001b[0;31m \u001b[0mprint\u001b[0m\u001b[0;34m(\u001b[0m\u001b[0;34m\"Precision:\\t\"\u001b[0m \u001b[0;34m+\u001b[0m \u001b[0mstr\u001b[0m\u001b[0;34m(\u001b[0m\u001b[0mtp\u001b[0m\u001b[0;34m/\u001b[0m\u001b[0;34m(\u001b[0m\u001b[0mtp\u001b[0m\u001b[0;34m+\u001b[0m\u001b[0mfp\u001b[0m\u001b[0;34m)\u001b[0m\u001b[0;34m)\u001b[0m\u001b[0;34m)\u001b[0m\u001b[0;34m\u001b[0m\u001b[0;34m\u001b[0m\u001b[0m\n\u001b[0m\u001b[1;32m      2\u001b[0m \u001b[0mprint\u001b[0m\u001b[0;34m(\u001b[0m\u001b[0;34m\"Recall:\\t\\t\"\u001b[0m \u001b[0;34m+\u001b[0m \u001b[0mstr\u001b[0m\u001b[0;34m(\u001b[0m\u001b[0mtp\u001b[0m\u001b[0;34m/\u001b[0m\u001b[0;34m(\u001b[0m\u001b[0mtp\u001b[0m\u001b[0;34m+\u001b[0m\u001b[0mfn\u001b[0m\u001b[0;34m)\u001b[0m\u001b[0;34m)\u001b[0m\u001b[0;34m)\u001b[0m\u001b[0;34m\u001b[0m\u001b[0;34m\u001b[0m\u001b[0m\n\u001b[1;32m      3\u001b[0m \u001b[0mprint\u001b[0m\u001b[0;34m(\u001b[0m\u001b[0;34m\"Accuracy:\\t\"\u001b[0m \u001b[0;34m+\u001b[0m \u001b[0mstr\u001b[0m\u001b[0;34m(\u001b[0m\u001b[0mn_correct\u001b[0m\u001b[0;34m/\u001b[0m\u001b[0;34m(\u001b[0m\u001b[0mn_correct\u001b[0m\u001b[0;34m+\u001b[0m\u001b[0mn_incorrect\u001b[0m\u001b[0;34m)\u001b[0m\u001b[0;34m)\u001b[0m\u001b[0;34m)\u001b[0m\u001b[0;34m\u001b[0m\u001b[0;34m\u001b[0m\u001b[0m\n",
      "\u001b[0;31mZeroDivisionError\u001b[0m: division by zero"
     ]
    }
   ],
   "source": [
    "print(\"Precision:\\t\" + str(tp/(tp+fp)))\n",
    "print(\"Recall:\\t\\t\" + str(tp/(tp+fn)))\n",
    "print(\"Accuracy:\\t\" + str(n_correct/(n_correct+n_incorrect)))"
   ]
  },
  {
   "cell_type": "code",
   "execution_count": null,
   "metadata": {},
   "outputs": [],
   "source": []
  },
  {
   "cell_type": "code",
   "execution_count": null,
   "metadata": {},
   "outputs": [],
   "source": []
  }
 ],
 "metadata": {
  "kernelspec": {
   "display_name": "Python 3",
   "language": "python",
   "name": "python3"
  },
  "language_info": {
   "codemirror_mode": {
    "name": "ipython",
    "version": 3
   },
   "file_extension": ".py",
   "mimetype": "text/x-python",
   "name": "python",
   "nbconvert_exporter": "python",
   "pygments_lexer": "ipython3",
   "version": "3.7.2"
  }
 },
 "nbformat": 4,
 "nbformat_minor": 2
}
