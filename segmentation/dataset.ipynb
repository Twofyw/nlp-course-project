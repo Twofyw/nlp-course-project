{
 "cells": [
  {
   "cell_type": "code",
   "execution_count": 1,
   "metadata": {
    "ExecuteTime": {
     "end_time": "2019-04-02T09:18:58.273705Z",
     "start_time": "2019-04-02T09:18:56.341947Z"
    }
   },
   "outputs": [],
   "source": [
    "%matplotlib inline\n",
    "%reload_ext autoreload\n",
    "%autoreload 2"
   ]
  },
  {
   "cell_type": "code",
   "execution_count": 2,
   "metadata": {
    "ExecuteTime": {
     "end_time": "2019-04-02T09:21:54.392060Z",
     "start_time": "2019-04-02T09:21:51.454295Z"
    }
   },
   "outputs": [],
   "source": [
    "from utils.imports import *"
   ]
  },
  {
   "cell_type": "code",
   "execution_count": 3,
   "metadata": {
    "ExecuteTime": {
     "end_time": "2019-04-02T09:22:14.657539Z",
     "start_time": "2019-04-02T09:22:14.622118Z"
    }
   },
   "outputs": [],
   "source": [
    "fn_corpora = Path('datasets/北大人民日报语料库.txt')"
   ]
  },
  {
   "cell_type": "code",
   "execution_count": 11,
   "metadata": {
    "ExecuteTime": {
     "end_time": "2019-04-02T09:26:51.575623Z",
     "start_time": "2019-04-02T09:26:51.436780Z"
    }
   },
   "outputs": [],
   "source": [
    "with open(fn_corpora, 'r', encoding='gbk') as f:\n",
    "    raw_corpora = f.read()"
   ]
  },
  {
   "cell_type": "code",
   "execution_count": 16,
   "metadata": {
    "ExecuteTime": {
     "end_time": "2019-04-02T09:27:56.073816Z",
     "start_time": "2019-04-02T09:27:55.934283Z"
    }
   },
   "outputs": [],
   "source": [
    "sentences = raw_corpora.split('\\n')"
   ]
  },
  {
   "cell_type": "code",
   "execution_count": 27,
   "metadata": {
    "ExecuteTime": {
     "end_time": "2019-04-02T09:30:41.253335Z",
     "start_time": "2019-04-02T09:30:41.192825Z"
    }
   },
   "outputs": [
    {
     "data": {
      "text/plain": [
       "['19980101-01-001-002/m',\n",
       " '中共中央/nt',\n",
       " '总书记/n',\n",
       " '、/w',\n",
       " '国家/n',\n",
       " '主席/n',\n",
       " '江/nr',\n",
       " '泽民/nr',\n",
       " '']"
      ]
     },
     "execution_count": 27,
     "metadata": {},
     "output_type": "execute_result"
    }
   ],
   "source": [
    "sentence = sentences[1]\n",
    "sentence.split('  ')"
   ]
  },
  {
   "cell_type": "code",
   "execution_count": 28,
   "metadata": {
    "ExecuteTime": {
     "end_time": "2019-04-02T09:30:45.848239Z",
     "start_time": "2019-04-02T09:30:45.824538Z"
    }
   },
   "outputs": [],
   "source": [
    "words = [o for o in sentence.split('  ')[1:-1]]"
   ]
  },
  {
   "cell_type": "code",
   "execution_count": 29,
   "metadata": {
    "ExecuteTime": {
     "end_time": "2019-04-02T09:30:46.408779Z",
     "start_time": "2019-04-02T09:30:46.349048Z"
    }
   },
   "outputs": [
    {
     "data": {
      "text/plain": [
       "['中共中央/nt', '总书记/n', '、/w', '国家/n', '主席/n', '江/nr', '泽民/nr']"
      ]
     },
     "execution_count": 29,
     "metadata": {},
     "output_type": "execute_result"
    }
   ],
   "source": [
    "words"
   ]
  },
  {
   "cell_type": "markdown",
   "metadata": {},
   "source": [
    "# Collect words"
   ]
  },
  {
   "cell_type": "code",
   "execution_count": 30,
   "metadata": {
    "ExecuteTime": {
     "end_time": "2019-04-02T09:31:46.102465Z",
     "start_time": "2019-04-02T09:31:45.895433Z"
    }
   },
   "outputs": [],
   "source": [
    "words = [o for sentence in sentences for o in sentence.split('  ')[1:-1]]"
   ]
  },
  {
   "cell_type": "code",
   "execution_count": 33,
   "metadata": {
    "ExecuteTime": {
     "end_time": "2019-04-02T09:32:05.139038Z",
     "start_time": "2019-04-02T09:32:05.085939Z"
    }
   },
   "outputs": [
    {
     "data": {
      "text/plain": [
       "(1121429, ['迈向/v', '充满/v', '希望/n', '的/u', '新/a'])"
      ]
     },
     "execution_count": 33,
     "metadata": {},
     "output_type": "execute_result"
    }
   ],
   "source": [
    "len(words), words[:5]"
   ]
  },
  {
   "cell_type": "code",
   "execution_count": 40,
   "metadata": {
    "ExecuteTime": {
     "end_time": "2019-04-02T10:52:51.726170Z",
     "start_time": "2019-04-02T10:52:51.210912Z"
    }
   },
   "outputs": [
    {
     "data": {
      "text/plain": [
       "(1121429, ['迈向', '充满', '希望', '的', '新'])"
      ]
     },
     "execution_count": 40,
     "metadata": {},
     "output_type": "execute_result"
    }
   ],
   "source": [
    "# clean annotations\n",
    "words_clean = [o.split('/')[0] for o in words]\n",
    "len(words_clean), words_clean[:5]"
   ]
  },
  {
   "cell_type": "code",
   "execution_count": 46,
   "metadata": {
    "ExecuteTime": {
     "end_time": "2019-04-02T10:56:54.018789Z",
     "start_time": "2019-04-02T10:56:53.902026Z"
    }
   },
   "outputs": [],
   "source": [
    "sentences_space = ' '.join(words_clean)"
   ]
  },
  {
   "cell_type": "code",
   "execution_count": 47,
   "metadata": {
    "ExecuteTime": {
     "end_time": "2019-04-02T10:56:55.270519Z",
     "start_time": "2019-04-02T10:56:55.229862Z"
    }
   },
   "outputs": [],
   "source": [
    "def create_labels(sentences):\n",
    "    prepared_sentences = list()\n",
    "    for sentence in sentences:\n",
    "        lengths = [len(w) for w in sentence.split(\" \")]\n",
    "        positions = []\n",
    "\n",
    "        next_pos = 0\n",
    "        for length in lengths:\n",
    "            next_pos = next_pos + length\n",
    "            positions.append(next_pos)\n",
    "        concatenated = sentence.replace(\" \", \"\")\n",
    "\n",
    "        chars = [c for c in concatenated]\n",
    "        labels = [0 if not i in positions else 1 for i, c in enumerate(concatenated)]\n",
    "\n",
    "        prepared_sentences.append(list(zip(chars, labels)))\n",
    "    return prepared_sentences"
   ]
  },
  {
   "cell_type": "code",
   "execution_count": 51,
   "metadata": {
    "ExecuteTime": {
     "end_time": "2019-04-02T10:58:00.517654Z",
     "start_time": "2019-04-02T10:58:00.486056Z"
    }
   },
   "outputs": [
    {
     "data": {
      "text/plain": [
       "'迈向 充满 希望 的'"
      ]
     },
     "execution_count": 51,
     "metadata": {},
     "output_type": "execute_result"
    }
   ],
   "source": [
    "sentences_space[:10]"
   ]
  },
  {
   "cell_type": "code",
   "execution_count": null,
   "metadata": {
    "ExecuteTime": {
     "start_time": "2019-04-02T10:59:21.809Z"
    }
   },
   "outputs": [],
   "source": [
    "labels = create_labels([sentences_space])"
   ]
  },
  {
   "cell_type": "code",
   "execution_count": null,
   "metadata": {
    "ExecuteTime": {
     "start_time": "2019-04-02T10:59:54.839Z"
    }
   },
   "outputs": [],
   "source": [
    "labels[:50]"
   ]
  },
  {
   "cell_type": "code",
   "execution_count": null,
   "metadata": {},
   "outputs": [],
   "source": []
  },
  {
   "cell_type": "code",
   "execution_count": null,
   "metadata": {},
   "outputs": [],
   "source": []
  }
 ],
 "metadata": {
  "kernelspec": {
   "display_name": "Python 3",
   "language": "python",
   "name": "python3"
  },
  "language_info": {
   "codemirror_mode": {
    "name": "ipython",
    "version": 3
   },
   "file_extension": ".py",
   "mimetype": "text/x-python",
   "name": "python",
   "nbconvert_exporter": "python",
   "pygments_lexer": "ipython3",
   "version": "3.7.2"
  }
 },
 "nbformat": 4,
 "nbformat_minor": 2
}
